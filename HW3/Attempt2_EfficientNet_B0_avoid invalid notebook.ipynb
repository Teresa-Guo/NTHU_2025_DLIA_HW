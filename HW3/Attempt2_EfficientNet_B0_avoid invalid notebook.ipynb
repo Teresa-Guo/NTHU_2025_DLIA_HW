{
 "cells": [
  {
   "cell_type": "markdown",
   "metadata": {
    "id": "Li0bVCTuxc6n"
   },
   "source": [
    "<div align=\"center\">\n",
    "\n",
    "#### Lab 3\n",
    "\n",
    "# National Tsing Hua University\n",
    "\n",
    "#### Spring 2025\n",
    "\n",
    "#### 11320IEEM 513600\n",
    "\n",
    "#### Deep Learning and Industrial Applications\n",
    "    \n",
    "## Lab 3: Anomaly Detection in Industrial Applications\n",
    "\n",
    "</div>"
   ]
  },
  {
   "cell_type": "markdown",
   "metadata": {
    "id": "OlvflhYwCu8Q"
   },
   "source": [
    "### Introduction\n",
    "\n",
    "In today's industrial landscape, the ability to detect anomalies in manufacturing processes and products is critical for maintaining quality, efficiency, and safety. This lab focuses on leveraging deep learning techniques for anomaly detection in various industrial applications, using the MVTEC Anomaly Detection Dataset. By employing ImageNet-pretrained models available in torchvision, students will gain hands-on experience in classfying defects and irregularities across different types of industrial products.\n",
    "\n",
    "Throughout this lab, you'll be involved in the following key activities:\n",
    "- Explore and process the MVTec Anomaly Detection Dataset.\n",
    "- Apply ImageNet-pretrained models from [Torchvision](https://pytorch.org/vision/stable/models.html) to detect anomalies in industrial products.\n",
    "- Evaluate the performance of the models to understand their effectiveness in real-world industrial applications.\n",
    "\n",
    "### Objectives\n",
    "\n",
    "- Understand the principles of anomaly detection in the context of industrial applications.\n",
    "- Learn how to implement and utilize ImageNet-pretrained models for detecting anomalies.\n",
    "- Analyze and interpret the results of the anomaly detection models to assess their practicality in industrial settings.\n",
    "\n",
    "### Dataset\n",
    "\n",
    "The MVTec AD Dataset is a comprehensive collection of high-resolution images across different categories of industrial products, such as bottles, cables, and metal nuts, each with various types of defects. This dataset is pivotal for developing and benchmarking anomaly detection algorithms. You can download our lab's dataset [here](https://drive.google.com/file/d/19600hUOpx0hl78TdpdH0oyy-gGTk_F_o/view?usp=share_link). You can drop downloaded data and drop to colab, or you can put into yor google drive.\n",
    "\n",
    "### References\n",
    "- [MVTec AD Dataset](https://www.kaggle.com/datasets/ipythonx/mvtec-ad/data) for the dataset used in this lab.\n",
    "- [Torchvision Models](https://pytorch.org/vision/stable/models.html) for accessing ImageNet-pretrained models to be used in anomaly detection tasks.\n",
    "- [State-of-the-Art Anomaly Detection on MVTec AD](https://paperswithcode.com/sota/anomaly-detection-on-mvtec-ad) for insights into the latest benchmarks and methodologies in anomaly detection applied to the MVTec AD dataset.\n",
    "- [CVPR 2019: MVTec AD — A Comprehensive Real-World Dataset for Unsupervised Anomaly Detection] for the original paper of MVTec AD dataset."
   ]
  },
  {
   "cell_type": "code",
   "execution_count": 1,
   "metadata": {
    "executionInfo": {
     "elapsed": 759,
     "status": "ok",
     "timestamp": 1744184851270,
     "user": {
      "displayName": "右魚",
      "userId": "01020411439468698448"
     },
     "user_tz": -480
    },
    "id": "GuiEw1L0Cu8Q"
   },
   "outputs": [],
   "source": [
    "import glob\n",
    "import matplotlib.pyplot as plt\n",
    "import random\n",
    "from tqdm.auto import tqdm\n",
    "import cv2\n",
    "import numpy as np"
   ]
  },
  {
   "cell_type": "code",
   "execution_count": 2,
   "metadata": {
    "colab": {
     "base_uri": "https://localhost:8080/"
    },
    "executionInfo": {
     "elapsed": 33351,
     "status": "ok",
     "timestamp": 1744184887013,
     "user": {
      "displayName": "右魚",
      "userId": "01020411439468698448"
     },
     "user_tz": -480
    },
    "id": "qvLTTCGsCu8R",
    "outputId": "36b971b9-2f8d-4bb4-c6ab-0123cf08096b"
   },
   "outputs": [
    {
     "name": "stdout",
     "output_type": "stream",
     "text": [
      "Mounted at /content/drive\n",
      "Attempt1_unfreeze.ipynb  Attempt3_batch_size.ipynb  bottle\n",
      "Attempt2_epoch.ipynb\t Attempt4.ipynb\t\t    Origin.ipynb\n"
     ]
    }
   ],
   "source": [
    "from google.colab import drive\n",
    "\n",
    "drive.mount('/content/drive')\n",
    "!ls \"/content/drive/MyDrive/深度學習 Colab/HW3\" # 顯示路徑下所有資料夾與檔案\n",
    "\n",
    "#!tar -xvf \"/content/drive/MyDrive/深度學習 Colab/HW3/bottle.tar.gz\" # 解壓縮資料夾才需要"
   ]
  },
  {
   "cell_type": "code",
   "execution_count": 19,
   "metadata": {
    "colab": {
     "base_uri": "https://localhost:8080/"
    },
    "executionInfo": {
     "elapsed": 78,
     "status": "ok",
     "timestamp": 1744185711543,
     "user": {
      "displayName": "右魚",
      "userId": "01020411439468698448"
     },
     "user_tz": -480
    },
    "id": "yXfjTWKUCu8R",
    "outputId": "1d95e4bc-4756-4aab-d179-b33549ea2c44"
   },
   "outputs": [
    {
     "name": "stdout",
     "output_type": "stream",
     "text": [
      "['/content/drive/MyDrive/深度學習 Colab/HW3/bottle/ground_truth/broken_large/000_mask.png', '/content/drive/MyDrive/深度學習 Colab/HW3/bottle/ground_truth/broken_large/001_mask.png', '/content/drive/MyDrive/深度學習 Colab/HW3/bottle/ground_truth/broken_large/002_mask.png', '/content/drive/MyDrive/深度學習 Colab/HW3/bottle/ground_truth/broken_large/003_mask.png', '/content/drive/MyDrive/深度學習 Colab/HW3/bottle/ground_truth/broken_large/004_mask.png', '/content/drive/MyDrive/深度學習 Colab/HW3/bottle/ground_truth/broken_large/005_mask.png', '/content/drive/MyDrive/深度學習 Colab/HW3/bottle/ground_truth/broken_large/006_mask.png', '/content/drive/MyDrive/深度學習 Colab/HW3/bottle/ground_truth/broken_large/007_mask.png', '/content/drive/MyDrive/深度學習 Colab/HW3/bottle/ground_truth/broken_large/008_mask.png', '/content/drive/MyDrive/深度學習 Colab/HW3/bottle/ground_truth/broken_large/009_mask.png', '/content/drive/MyDrive/深度學習 Colab/HW3/bottle/ground_truth/broken_large/010_mask.png', '/content/drive/MyDrive/深度學習 Colab/HW3/bottle/ground_truth/broken_large/011_mask.png', '/content/drive/MyDrive/深度學習 Colab/HW3/bottle/ground_truth/broken_large/012_mask.png', '/content/drive/MyDrive/深度學習 Colab/HW3/bottle/ground_truth/broken_large/013_mask.png', '/content/drive/MyDrive/深度學習 Colab/HW3/bottle/ground_truth/broken_large/014_mask.png', '/content/drive/MyDrive/深度學習 Colab/HW3/bottle/ground_truth/broken_large/015_mask.png', '/content/drive/MyDrive/深度學習 Colab/HW3/bottle/ground_truth/broken_large/016_mask.png', '/content/drive/MyDrive/深度學習 Colab/HW3/bottle/ground_truth/broken_large/017_mask.png', '/content/drive/MyDrive/深度學習 Colab/HW3/bottle/ground_truth/broken_large/018_mask.png', '/content/drive/MyDrive/深度學習 Colab/HW3/bottle/ground_truth/broken_large/019_mask.png', '/content/drive/MyDrive/深度學習 Colab/HW3/bottle/ground_truth/broken_small/000_mask.png', '/content/drive/MyDrive/深度學習 Colab/HW3/bottle/ground_truth/broken_small/001_mask.png', '/content/drive/MyDrive/深度學習 Colab/HW3/bottle/ground_truth/broken_small/002_mask.png', '/content/drive/MyDrive/深度學習 Colab/HW3/bottle/ground_truth/broken_small/003_mask.png', '/content/drive/MyDrive/深度學習 Colab/HW3/bottle/ground_truth/broken_small/004_mask.png', '/content/drive/MyDrive/深度學習 Colab/HW3/bottle/ground_truth/broken_small/005_mask.png', '/content/drive/MyDrive/深度學習 Colab/HW3/bottle/ground_truth/broken_small/006_mask.png', '/content/drive/MyDrive/深度學習 Colab/HW3/bottle/ground_truth/broken_small/007_mask.png', '/content/drive/MyDrive/深度學習 Colab/HW3/bottle/ground_truth/broken_small/008_mask.png', '/content/drive/MyDrive/深度學習 Colab/HW3/bottle/ground_truth/broken_small/009_mask.png', '/content/drive/MyDrive/深度學習 Colab/HW3/bottle/ground_truth/broken_small/010_mask.png', '/content/drive/MyDrive/深度學習 Colab/HW3/bottle/ground_truth/broken_small/011_mask.png', '/content/drive/MyDrive/深度學習 Colab/HW3/bottle/ground_truth/broken_small/012_mask.png', '/content/drive/MyDrive/深度學習 Colab/HW3/bottle/ground_truth/broken_small/013_mask.png', '/content/drive/MyDrive/深度學習 Colab/HW3/bottle/ground_truth/broken_small/014_mask.png', '/content/drive/MyDrive/深度學習 Colab/HW3/bottle/ground_truth/broken_small/015_mask.png', '/content/drive/MyDrive/深度學習 Colab/HW3/bottle/ground_truth/broken_small/016_mask.png', '/content/drive/MyDrive/深度學習 Colab/HW3/bottle/ground_truth/broken_small/017_mask.png', '/content/drive/MyDrive/深度學習 Colab/HW3/bottle/ground_truth/broken_small/018_mask.png', '/content/drive/MyDrive/深度學習 Colab/HW3/bottle/ground_truth/broken_small/019_mask.png', '/content/drive/MyDrive/深度學習 Colab/HW3/bottle/ground_truth/contamination/000_mask.png', '/content/drive/MyDrive/深度學習 Colab/HW3/bottle/ground_truth/contamination/001_mask.png', '/content/drive/MyDrive/深度學習 Colab/HW3/bottle/ground_truth/contamination/002_mask.png', '/content/drive/MyDrive/深度學習 Colab/HW3/bottle/ground_truth/contamination/003_mask.png', '/content/drive/MyDrive/深度學習 Colab/HW3/bottle/ground_truth/contamination/004_mask.png', '/content/drive/MyDrive/深度學習 Colab/HW3/bottle/ground_truth/contamination/005_mask.png', '/content/drive/MyDrive/深度學習 Colab/HW3/bottle/ground_truth/contamination/006_mask.png', '/content/drive/MyDrive/深度學習 Colab/HW3/bottle/ground_truth/contamination/007_mask.png', '/content/drive/MyDrive/深度學習 Colab/HW3/bottle/ground_truth/contamination/008_mask.png', '/content/drive/MyDrive/深度學習 Colab/HW3/bottle/ground_truth/contamination/009_mask.png', '/content/drive/MyDrive/深度學習 Colab/HW3/bottle/ground_truth/contamination/010_mask.png', '/content/drive/MyDrive/深度學習 Colab/HW3/bottle/ground_truth/contamination/011_mask.png', '/content/drive/MyDrive/深度學習 Colab/HW3/bottle/ground_truth/contamination/012_mask.png', '/content/drive/MyDrive/深度學習 Colab/HW3/bottle/ground_truth/contamination/013_mask.png', '/content/drive/MyDrive/深度學習 Colab/HW3/bottle/ground_truth/contamination/014_mask.png', '/content/drive/MyDrive/深度學習 Colab/HW3/bottle/ground_truth/contamination/015_mask.png', '/content/drive/MyDrive/深度學習 Colab/HW3/bottle/ground_truth/contamination/016_mask.png', '/content/drive/MyDrive/深度學習 Colab/HW3/bottle/ground_truth/contamination/017_mask.png', '/content/drive/MyDrive/深度學習 Colab/HW3/bottle/ground_truth/contamination/018_mask.png', '/content/drive/MyDrive/深度學習 Colab/HW3/bottle/ground_truth/contamination/019_mask.png', '/content/drive/MyDrive/深度學習 Colab/HW3/bottle/test/broken_large/000.png', '/content/drive/MyDrive/深度學習 Colab/HW3/bottle/test/broken_large/001.png', '/content/drive/MyDrive/深度學習 Colab/HW3/bottle/test/broken_large/002.png', '/content/drive/MyDrive/深度學習 Colab/HW3/bottle/test/broken_large/003.png', '/content/drive/MyDrive/深度學習 Colab/HW3/bottle/test/broken_large/004.png', '/content/drive/MyDrive/深度學習 Colab/HW3/bottle/test/broken_large/005.png', '/content/drive/MyDrive/深度學習 Colab/HW3/bottle/test/broken_large/006.png', '/content/drive/MyDrive/深度學習 Colab/HW3/bottle/test/broken_large/007.png', '/content/drive/MyDrive/深度學習 Colab/HW3/bottle/test/broken_large/008.png', '/content/drive/MyDrive/深度學習 Colab/HW3/bottle/test/broken_large/009.png', '/content/drive/MyDrive/深度學習 Colab/HW3/bottle/test/broken_large/010.png', '/content/drive/MyDrive/深度學習 Colab/HW3/bottle/test/broken_large/011.png', '/content/drive/MyDrive/深度學習 Colab/HW3/bottle/test/broken_large/012.png', '/content/drive/MyDrive/深度學習 Colab/HW3/bottle/test/broken_large/013.png', '/content/drive/MyDrive/深度學習 Colab/HW3/bottle/test/broken_large/014.png', '/content/drive/MyDrive/深度學習 Colab/HW3/bottle/test/broken_large/015.png', '/content/drive/MyDrive/深度學習 Colab/HW3/bottle/test/broken_large/016.png', '/content/drive/MyDrive/深度學習 Colab/HW3/bottle/test/broken_large/017.png', '/content/drive/MyDrive/深度學習 Colab/HW3/bottle/test/broken_large/018.png', '/content/drive/MyDrive/深度學習 Colab/HW3/bottle/test/broken_large/019.png', '/content/drive/MyDrive/深度學習 Colab/HW3/bottle/test/broken_small/000.png', '/content/drive/MyDrive/深度學習 Colab/HW3/bottle/test/broken_small/001.png', '/content/drive/MyDrive/深度學習 Colab/HW3/bottle/test/broken_small/002.png', '/content/drive/MyDrive/深度學習 Colab/HW3/bottle/test/broken_small/003.png', '/content/drive/MyDrive/深度學習 Colab/HW3/bottle/test/broken_small/004.png', '/content/drive/MyDrive/深度學習 Colab/HW3/bottle/test/broken_small/005.png', '/content/drive/MyDrive/深度學習 Colab/HW3/bottle/test/broken_small/006.png', '/content/drive/MyDrive/深度學習 Colab/HW3/bottle/test/broken_small/007.png', '/content/drive/MyDrive/深度學習 Colab/HW3/bottle/test/broken_small/008.png', '/content/drive/MyDrive/深度學習 Colab/HW3/bottle/test/broken_small/009.png', '/content/drive/MyDrive/深度學習 Colab/HW3/bottle/test/broken_small/010.png', '/content/drive/MyDrive/深度學習 Colab/HW3/bottle/test/broken_small/011.png', '/content/drive/MyDrive/深度學習 Colab/HW3/bottle/test/broken_small/012.png', '/content/drive/MyDrive/深度學習 Colab/HW3/bottle/test/broken_small/013.png', '/content/drive/MyDrive/深度學習 Colab/HW3/bottle/test/broken_small/014.png', '/content/drive/MyDrive/深度學習 Colab/HW3/bottle/test/broken_small/015.png', '/content/drive/MyDrive/深度學習 Colab/HW3/bottle/test/broken_small/016.png', '/content/drive/MyDrive/深度學習 Colab/HW3/bottle/test/broken_small/017.png', '/content/drive/MyDrive/深度學習 Colab/HW3/bottle/test/broken_small/018.png', '/content/drive/MyDrive/深度學習 Colab/HW3/bottle/test/broken_small/019.png', '/content/drive/MyDrive/深度學習 Colab/HW3/bottle/test/contamination/000.png', '/content/drive/MyDrive/深度學習 Colab/HW3/bottle/test/contamination/001.png', '/content/drive/MyDrive/深度學習 Colab/HW3/bottle/test/contamination/002.png', '/content/drive/MyDrive/深度學習 Colab/HW3/bottle/test/contamination/003.png', '/content/drive/MyDrive/深度學習 Colab/HW3/bottle/test/contamination/004.png', '/content/drive/MyDrive/深度學習 Colab/HW3/bottle/test/contamination/005.png', '/content/drive/MyDrive/深度學習 Colab/HW3/bottle/test/contamination/006.png', '/content/drive/MyDrive/深度學習 Colab/HW3/bottle/test/contamination/007.png', '/content/drive/MyDrive/深度學習 Colab/HW3/bottle/test/contamination/008.png', '/content/drive/MyDrive/深度學習 Colab/HW3/bottle/test/contamination/009.png', '/content/drive/MyDrive/深度學習 Colab/HW3/bottle/test/contamination/010.png', '/content/drive/MyDrive/深度學習 Colab/HW3/bottle/test/contamination/011.png', '/content/drive/MyDrive/深度學習 Colab/HW3/bottle/test/contamination/012.png', '/content/drive/MyDrive/深度學習 Colab/HW3/bottle/test/contamination/013.png', '/content/drive/MyDrive/深度學習 Colab/HW3/bottle/test/contamination/014.png', '/content/drive/MyDrive/深度學習 Colab/HW3/bottle/test/contamination/015.png', '/content/drive/MyDrive/深度學習 Colab/HW3/bottle/test/contamination/016.png', '/content/drive/MyDrive/深度學習 Colab/HW3/bottle/test/contamination/017.png', '/content/drive/MyDrive/深度學習 Colab/HW3/bottle/test/contamination/018.png', '/content/drive/MyDrive/深度學習 Colab/HW3/bottle/test/contamination/019.png', '/content/drive/MyDrive/深度學習 Colab/HW3/bottle/test/good/000.png', '/content/drive/MyDrive/深度學習 Colab/HW3/bottle/test/good/001.png', '/content/drive/MyDrive/深度學習 Colab/HW3/bottle/test/good/002.png', '/content/drive/MyDrive/深度學習 Colab/HW3/bottle/test/good/003.png', '/content/drive/MyDrive/深度學習 Colab/HW3/bottle/test/good/004.png', '/content/drive/MyDrive/深度學習 Colab/HW3/bottle/test/good/005.png', '/content/drive/MyDrive/深度學習 Colab/HW3/bottle/test/good/006.png', '/content/drive/MyDrive/深度學習 Colab/HW3/bottle/test/good/007.png', '/content/drive/MyDrive/深度學習 Colab/HW3/bottle/test/good/008.png', '/content/drive/MyDrive/深度學習 Colab/HW3/bottle/test/good/009.png', '/content/drive/MyDrive/深度學習 Colab/HW3/bottle/test/good/010.png', '/content/drive/MyDrive/深度學習 Colab/HW3/bottle/test/good/011.png', '/content/drive/MyDrive/深度學習 Colab/HW3/bottle/test/good/012.png', '/content/drive/MyDrive/深度學習 Colab/HW3/bottle/test/good/013.png', '/content/drive/MyDrive/深度學習 Colab/HW3/bottle/test/good/014.png', '/content/drive/MyDrive/深度學習 Colab/HW3/bottle/test/good/015.png', '/content/drive/MyDrive/深度學習 Colab/HW3/bottle/test/good/016.png', '/content/drive/MyDrive/深度學習 Colab/HW3/bottle/test/good/017.png', '/content/drive/MyDrive/深度學習 Colab/HW3/bottle/test/good/018.png', '/content/drive/MyDrive/深度學習 Colab/HW3/bottle/test/good/019.png', '/content/drive/MyDrive/深度學習 Colab/HW3/bottle/train/good/000.png', '/content/drive/MyDrive/深度學習 Colab/HW3/bottle/train/good/001.png', '/content/drive/MyDrive/深度學習 Colab/HW3/bottle/train/good/002.png', '/content/drive/MyDrive/深度學習 Colab/HW3/bottle/train/good/003.png', '/content/drive/MyDrive/深度學習 Colab/HW3/bottle/train/good/004.png', '/content/drive/MyDrive/深度學習 Colab/HW3/bottle/train/good/005.png', '/content/drive/MyDrive/深度學習 Colab/HW3/bottle/train/good/006.png', '/content/drive/MyDrive/深度學習 Colab/HW3/bottle/train/good/007.png', '/content/drive/MyDrive/深度學習 Colab/HW3/bottle/train/good/008.png', '/content/drive/MyDrive/深度學習 Colab/HW3/bottle/train/good/009.png', '/content/drive/MyDrive/深度學習 Colab/HW3/bottle/train/good/010.png', '/content/drive/MyDrive/深度學習 Colab/HW3/bottle/train/good/011.png', '/content/drive/MyDrive/深度學習 Colab/HW3/bottle/train/good/012.png', '/content/drive/MyDrive/深度學習 Colab/HW3/bottle/train/good/013.png', '/content/drive/MyDrive/深度學習 Colab/HW3/bottle/train/good/014.png', '/content/drive/MyDrive/深度學習 Colab/HW3/bottle/train/good/015.png', '/content/drive/MyDrive/深度學習 Colab/HW3/bottle/train/good/016.png', '/content/drive/MyDrive/深度學習 Colab/HW3/bottle/train/good/017.png', '/content/drive/MyDrive/深度學習 Colab/HW3/bottle/train/good/018.png', '/content/drive/MyDrive/深度學習 Colab/HW3/bottle/train/good/019.png']\n"
     ]
    }
   ],
   "source": [
    "file_paths = glob.glob(\"/content/drive/MyDrive/深度學習 Colab/HW3/bottle/**/*.png\", recursive=True) # ** 會匹配所有層級的子資料夾\n",
    "\n",
    "\n",
    "# 從 file_paths 中挑出檔名開頭是 000.png 到 019.png 的圖片，並排序好\n",
    "file_paths = sorted([\n",
    "    path for path in file_paths\n",
    "    if path.split('/')[-1][:3] in [f'{i:03}' for i in range(20)]\n",
    "])\n",
    "print(file_paths)"
   ]
  },
  {
   "cell_type": "code",
   "execution_count": 20,
   "metadata": {
    "colab": {
     "base_uri": "https://localhost:8080/",
     "height": 66,
     "referenced_widgets": [
      "9bd5448c2b4746bba011d8cc693089e5",
      "57b78a429f684c9db53b0adfa2646be2",
      "2279ce26f0a741ac9fb976ab3966685e",
      "e0b273465d2b45229979088d654c6888",
      "54f0d057c07b4ae09841ab99b317030f",
      "25fc42d9e7dd4e7aa3c5151001e3d7e3",
      "7199a59a4bf140f79a29b3ddeeb40fb4",
      "79e4cb992af24e80b29637d9c3922e06",
      "ee6deeed69214d5888bbcf706e0dd90b",
      "4fef2af8bf754ca4bd3ca007e30a6dd9",
      "896160e8e6904a5db0284eb7e5c3a692"
     ]
    },
    "executionInfo": {
     "elapsed": 6336,
     "status": "ok",
     "timestamp": 1744185719570,
     "user": {
      "displayName": "右魚",
      "userId": "01020411439468698448"
     },
     "user_tz": -480
    },
    "id": "3GiOZBRJCu8S",
    "outputId": "0ce16f6a-3f09-4cf9-8657-2738a2bbe52b"
   },
   "outputs": [
    {
     "data": {
      "application/vnd.jupyter.widget-view+json": {
       "model_id": "9bd5448c2b4746bba011d8cc693089e5",
       "version_major": 2,
       "version_minor": 0
      },
      "text/plain": [
       "  0%|          | 0/160 [00:00<?, ?it/s]"
      ]
     },
     "metadata": {},
     "output_type": "display_data"
    },
    {
     "name": "stdout",
     "output_type": "stream",
     "text": [
      "(160, 900, 900, 3)\n"
     ]
    }
   ],
   "source": [
    "all_data = []\n",
    "\n",
    "for img in tqdm(file_paths):\n",
    "  img = cv2.imread(img)\n",
    "  img = img[..., ::-1] # ... 表示前面所有維度（height × width），::-1 表示把最後一個維度（色彩通道）反轉\n",
    "  all_data.append(img)\n",
    "\n",
    "all_data = np.stack(all_data) # 將 list 中的所有圖片合併成一個 4 維 NumPy 陣列，維度是：(num_images, height, width, channels)\n",
    "print(all_data.shape) # 現在會有 160 張圖片，因為每個子資料夾都先讀取前 20 張"
   ]
  },
  {
   "cell_type": "code",
   "execution_count": 42,
   "metadata": {
    "colab": {
     "base_uri": "https://localhost:8080/",
     "height": 585
    },
    "executionInfo": {
     "elapsed": 260,
     "status": "error",
     "timestamp": 1744178261796,
     "user": {
      "displayName": "右魚",
      "userId": "01020411439468698448"
     },
     "user_tz": -480
    },
    "id": "ii8LH8s4Cu8S",
    "outputId": "4978aa43-ae27-43b0-96c6-bd24be16219c"
   },
   "outputs": [
    {
     "name": "stdout",
     "output_type": "stream",
     "text": [
      "Classes: ['content']\n"
     ]
    },
    {
     "ename": "IndexError",
     "evalue": "too many indices for array: array is 1-dimensional, but 2 were indexed",
     "output_type": "error",
     "traceback": [
      "\u001b[0;31m---------------------------------------------------------------------------\u001b[0m",
      "\u001b[0;31mIndexError\u001b[0m                                Traceback (most recent call last)",
      "\u001b[0;32m<ipython-input-42-32b7f5d1de70>\u001b[0m in \u001b[0;36m<cell line: 0>\u001b[0;34m()\u001b[0m\n\u001b[1;32m     11\u001b[0m     \u001b[0mindex\u001b[0m \u001b[0;34m=\u001b[0m \u001b[0mi\u001b[0m \u001b[0;34m*\u001b[0m \u001b[0mimages_per_class\u001b[0m\u001b[0;34m\u001b[0m\u001b[0;34m\u001b[0m\u001b[0m\n\u001b[1;32m     12\u001b[0m     \u001b[0;32mfor\u001b[0m \u001b[0mj\u001b[0m \u001b[0;32min\u001b[0m \u001b[0mrange\u001b[0m\u001b[0;34m(\u001b[0m\u001b[0;36m2\u001b[0m\u001b[0;34m)\u001b[0m\u001b[0;34m:\u001b[0m\u001b[0;34m\u001b[0m\u001b[0;34m\u001b[0m\u001b[0m\n\u001b[0;32m---> 13\u001b[0;31m         \u001b[0maxs\u001b[0m\u001b[0;34m[\u001b[0m\u001b[0mi\u001b[0m\u001b[0;34m,\u001b[0m \u001b[0mj\u001b[0m\u001b[0;34m]\u001b[0m\u001b[0;34m.\u001b[0m\u001b[0mset_title\u001b[0m\u001b[0;34m(\u001b[0m\u001b[0;34mf'{i}. {class_name}'\u001b[0m\u001b[0;34m)\u001b[0m\u001b[0;34m\u001b[0m\u001b[0;34m\u001b[0m\u001b[0m\n\u001b[0m\u001b[1;32m     14\u001b[0m         \u001b[0maxs\u001b[0m\u001b[0;34m[\u001b[0m\u001b[0mi\u001b[0m\u001b[0;34m,\u001b[0m \u001b[0mj\u001b[0m\u001b[0;34m]\u001b[0m\u001b[0;34m.\u001b[0m\u001b[0mimshow\u001b[0m\u001b[0;34m(\u001b[0m\u001b[0mall_data\u001b[0m\u001b[0;34m[\u001b[0m\u001b[0mindex\u001b[0m \u001b[0;34m+\u001b[0m \u001b[0mj\u001b[0m\u001b[0;34m]\u001b[0m\u001b[0;34m)\u001b[0m\u001b[0;34m\u001b[0m\u001b[0;34m\u001b[0m\u001b[0m\n\u001b[1;32m     15\u001b[0m         \u001b[0maxs\u001b[0m\u001b[0;34m[\u001b[0m\u001b[0mi\u001b[0m\u001b[0;34m,\u001b[0m \u001b[0mj\u001b[0m\u001b[0;34m]\u001b[0m\u001b[0;34m.\u001b[0m\u001b[0maxis\u001b[0m\u001b[0;34m(\u001b[0m\u001b[0;34m'off'\u001b[0m\u001b[0;34m)\u001b[0m\u001b[0;34m\u001b[0m\u001b[0;34m\u001b[0m\u001b[0m\n",
      "\u001b[0;31mIndexError\u001b[0m: too many indices for array: array is 1-dimensional, but 2 were indexed"
     ]
    },
    {
     "data": {
      "image/png": "[encoded data removed]",
      "text/plain": [
       "<Figure size 600x400 with 2 Axes>"
      ]
     },
     "metadata": {},
     "output_type": "display_data"
    }
   ],
   "source": [
    "import matplotlib.pyplot as plt\n",
    "import numpy as np\n",
    "\n",
    "classes = sorted(set([path.split('/')[1] for path in file_paths]))\n",
    "print(f'Classes: {classes}')\n",
    "\n",
    "images_per_class = len(all_data) // len(classes)\n",
    "fig, axs = plt.subplots(len(classes), 2, figsize=(6, 4 * len(classes)))\n",
    "\n",
    "for i, class_name in enumerate(classes):\n",
    "    index = i * images_per_class\n",
    "    for j in range(2):\n",
    "        axs[i, j].set_title(f'{i}. {class_name}')\n",
    "        axs[i, j].imshow(all_data[index + j])\n",
    "        axs[i, j].axis('off')\n",
    "\n",
    "plt.tight_layout()\n",
    "plt.show()"
   ]
  },
  {
   "cell_type": "markdown",
   "metadata": {
    "id": "w-1PsC--M7pT"
   },
   "source": [
    "## A. Data Loading and Preprocessing"
   ]
  },
  {
   "cell_type": "code",
   "execution_count": 28,
   "metadata": {
    "colab": {
     "base_uri": "https://localhost:8080/"
    },
    "executionInfo": {
     "elapsed": 541,
     "status": "ok",
     "timestamp": 1744185817856,
     "user": {
      "displayName": "右魚",
      "userId": "01020411439468698448"
     },
     "user_tz": -480
    },
    "id": "nGFI8GMpCu8S",
    "outputId": "db72785e-5f8f-49ef-bd20-7a586cc9861a"
   },
   "outputs": [
    {
     "name": "stdout",
     "output_type": "stream",
     "text": [
      "Shape of x_train: (48, 3, 900, 900)\n",
      "Shape of x_val: (12, 3, 900, 900)\n",
      "Shape of y_train: (48,)\n",
      "Shape of y_val: (12,)\n"
     ]
    }
   ],
   "source": [
    "import torch\n",
    "from torch.utils.data import DataLoader, TensorDataset, random_split\n",
    "import numpy as np\n",
    "\n",
    "num_classes = 3 # 總共 3 類不良\n",
    "images_per_class = 20 # 每個資料夾讀取前 20 張圖片\n",
    "train_images_per_class = int(images_per_class * 0.8) # num_images = 60 * 0.8 = 48\n",
    "val_images_per_class = int(images_per_class * 0.2) # num_images = 60 * 0.2 = 12\n",
    "\n",
    "x_train = []\n",
    "x_val = []\n",
    "\n",
    "for i in range(num_classes):\n",
    "    start_index = i * images_per_class\n",
    "    x_train.extend(all_data[start_index:start_index + train_images_per_class]) # 前 48 張當作訓練集\n",
    "    x_val.extend(all_data[start_index + train_images_per_class:start_index + images_per_class]) # 剩下當作驗證集\n",
    "\n",
    "# The shape changes from (num_images, height, width, channels) to (num_images, channels, height, width)\n",
    "x_train = np.transpose(np.array(x_train), (0, 3, 1, 2))\n",
    "x_val = np.transpose(np.array(x_val), (0, 3, 1, 2))\n",
    "\n",
    "y_train = np.concatenate([np.full(train_images_per_class, i) for i in range(num_classes)])\n",
    "y_val = np.concatenate([np.full(val_images_per_class, i) for i in range(num_classes)])\n",
    "\n",
    "print(f'Shape of x_train: {x_train.shape}')\n",
    "print(f'Shape of x_val: {x_val.shape}')\n",
    "print(f'Shape of y_train: {y_train.shape}')\n",
    "print(f'Shape of y_val: {y_val.shape}')"
   ]
  },
  {
   "cell_type": "code",
   "execution_count": 30,
   "metadata": {
    "executionInfo": {
     "elapsed": 8,
     "status": "ok",
     "timestamp": 1744185822706,
     "user": {
      "displayName": "右魚",
      "userId": "01020411439468698448"
     },
     "user_tz": -480
    },
    "id": "h-CnfsmbCu8T"
   },
   "outputs": [],
   "source": [
    "from torchvision import datasets, transforms\n",
    "from torch.utils.data import DataLoader, Dataset\n",
    "from PIL import Image\n",
    "\n",
    "train_transforms = transforms.Compose(\n",
    "    [\n",
    "        transforms.Resize((32, 32)),\n",
    "        transforms.AutoAugment(),\n",
    "        transforms.RandomHorizontalFlip(), # 50% 機率左右翻轉\n",
    "        transforms.ToTensor(),\n",
    "    ]\n",
    ")\n",
    "\n",
    "val_transforms = transforms.Compose(\n",
    "    [\n",
    "        transforms.Resize((32, 32)),\n",
    "        transforms.ToTensor(),\n",
    "    ]\n",
    ")\n",
    "\n",
    "class MyDataset(Dataset):\n",
    "    def __init__(self, x, y, transform=None):\n",
    "        self.x = x # (num_images, channels, height, width) 的 NumPy 陣列\n",
    "        self.y = torch.from_numpy(y).long() # 將標籤陣列轉為 PyTorch tensor，並轉為 long（整數類型，分類常用）\n",
    "        self.transform = transform\n",
    "\n",
    "    def __len__(self):\n",
    "        return len(self.x)\n",
    "\n",
    "    def __getitem__(self, idx):\n",
    "        new_x = np.transpose(self.x[idx], (1, 2, 0))\n",
    "        return self.transform(Image.fromarray(new_x)), self.y[idx]"
   ]
  },
  {
   "cell_type": "code",
   "execution_count": 31,
   "metadata": {
    "executionInfo": {
     "elapsed": 7,
     "status": "ok",
     "timestamp": 1744185825137,
     "user": {
      "displayName": "右魚",
      "userId": "01020411439468698448"
     },
     "user_tz": -480
    },
    "id": "53ZVFFacCu8T"
   },
   "outputs": [],
   "source": [
    "batch_size = 32 # hyper parameter\n",
    "\n",
    "train_dataset = MyDataset(x_train, y_train, train_transforms)\n",
    "val_dataset = MyDataset(x_val, y_val, val_transforms)\n",
    "\n",
    "train_loader = DataLoader(dataset=train_dataset, batch_size=batch_size, shuffle=True, num_workers=2, pin_memory=True, persistent_workers=True)\n",
    "val_loader = DataLoader(dataset=val_dataset, batch_size=batch_size, shuffle=False, num_workers=1, pin_memory=True, persistent_workers=True)"
   ]
  },
  {
   "cell_type": "markdown",
   "metadata": {
    "id": "oaLGtT28xc6s"
   },
   "source": [
    "## B. Defining Neural Networks"
   ]
  },
  {
   "cell_type": "code",
   "execution_count": 32,
   "metadata": {
    "colab": {
     "base_uri": "https://localhost:8080/"
    },
    "executionInfo": {
     "elapsed": 128,
     "status": "ok",
     "timestamp": 1744185826908,
     "user": {
      "displayName": "右魚",
      "userId": "01020411439468698448"
     },
     "user_tz": -480
    },
    "id": "oDX8iDKJCu8U",
    "outputId": "94b04fb1-802a-480d-ed55-d2709c986c44"
   },
   "outputs": [
    {
     "name": "stdout",
     "output_type": "stream",
     "text": [
      "EfficientNet(\n",
      "  (features): Sequential(\n",
      "    (0): Conv2dNormActivation(\n",
      "      (0): Conv2d(3, 32, kernel_size=(3, 3), stride=(2, 2), padding=(1, 1), bias=False)\n",
      "      (1): BatchNorm2d(32, eps=1e-05, momentum=0.1, affine=True, track_running_stats=True)\n",
      "      (2): SiLU(inplace=True)\n",
      "    )\n",
      "    (1): Sequential(\n",
      "      (0): MBConv(\n",
      "        (block): Sequential(\n",
      "          (0): Conv2dNormActivation(\n",
      "            (0): Conv2d(32, 32, kernel_size=(3, 3), stride=(1, 1), padding=(1, 1), groups=32, bias=False)\n",
      "            (1): BatchNorm2d(32, eps=1e-05, momentum=0.1, affine=True, track_running_stats=True)\n",
      "            (2): SiLU(inplace=True)\n",
      "          )\n",
      "          (1): SqueezeExcitation(\n",
      "            (avgpool): AdaptiveAvgPool2d(output_size=1)\n",
      "            (fc1): Conv2d(32, 8, kernel_size=(1, 1), stride=(1, 1))\n",
      "            (fc2): Conv2d(8, 32, kernel_size=(1, 1), stride=(1, 1))\n",
      "            (activation): SiLU(inplace=True)\n",
      "            (scale_activation): Sigmoid()\n",
      "          )\n",
      "          (2): Conv2dNormActivation(\n",
      "            (0): Conv2d(32, 16, kernel_size=(1, 1), stride=(1, 1), bias=False)\n",
      "            (1): BatchNorm2d(16, eps=1e-05, momentum=0.1, affine=True, track_running_stats=True)\n",
      "          )\n",
      "        )\n",
      "        (stochastic_depth): StochasticDepth(p=0.0, mode=row)\n",
      "      )\n",
      "    )\n",
      "    (2): Sequential(\n",
      "      (0): MBConv(\n",
      "        (block): Sequential(\n",
      "          (0): Conv2dNormActivation(\n",
      "            (0): Conv2d(16, 96, kernel_size=(1, 1), stride=(1, 1), bias=False)\n",
      "            (1): BatchNorm2d(96, eps=1e-05, momentum=0.1, affine=True, track_running_stats=True)\n",
      "            (2): SiLU(inplace=True)\n",
      "          )\n",
      "          (1): Conv2dNormActivation(\n",
      "            (0): Conv2d(96, 96, kernel_size=(3, 3), stride=(2, 2), padding=(1, 1), groups=96, bias=False)\n",
      "            (1): BatchNorm2d(96, eps=1e-05, momentum=0.1, affine=True, track_running_stats=True)\n",
      "            (2): SiLU(inplace=True)\n",
      "          )\n",
      "          (2): SqueezeExcitation(\n",
      "            (avgpool): AdaptiveAvgPool2d(output_size=1)\n",
      "            (fc1): Conv2d(96, 4, kernel_size=(1, 1), stride=(1, 1))\n",
      "            (fc2): Conv2d(4, 96, kernel_size=(1, 1), stride=(1, 1))\n",
      "            (activation): SiLU(inplace=True)\n",
      "            (scale_activation): Sigmoid()\n",
      "          )\n",
      "          (3): Conv2dNormActivation(\n",
      "            (0): Conv2d(96, 24, kernel_size=(1, 1), stride=(1, 1), bias=False)\n",
      "            (1): BatchNorm2d(24, eps=1e-05, momentum=0.1, affine=True, track_running_stats=True)\n",
      "          )\n",
      "        )\n",
      "        (stochastic_depth): StochasticDepth(p=0.0125, mode=row)\n",
      "      )\n",
      "      (1): MBConv(\n",
      "        (block): Sequential(\n",
      "          (0): Conv2dNormActivation(\n",
      "            (0): Conv2d(24, 144, kernel_size=(1, 1), stride=(1, 1), bias=False)\n",
      "            (1): BatchNorm2d(144, eps=1e-05, momentum=0.1, affine=True, track_running_stats=True)\n",
      "            (2): SiLU(inplace=True)\n",
      "          )\n",
      "          (1): Conv2dNormActivation(\n",
      "            (0): Conv2d(144, 144, kernel_size=(3, 3), stride=(1, 1), padding=(1, 1), groups=144, bias=False)\n",
      "            (1): BatchNorm2d(144, eps=1e-05, momentum=0.1, affine=True, track_running_stats=True)\n",
      "            (2): SiLU(inplace=True)\n",
      "          )\n",
      "          (2): SqueezeExcitation(\n",
      "            (avgpool): AdaptiveAvgPool2d(output_size=1)\n",
      "            (fc1): Conv2d(144, 6, kernel_size=(1, 1), stride=(1, 1))\n",
      "            (fc2): Conv2d(6, 144, kernel_size=(1, 1), stride=(1, 1))\n",
      "            (activation): SiLU(inplace=True)\n",
      "            (scale_activation): Sigmoid()\n",
      "          )\n",
      "          (3): Conv2dNormActivation(\n",
      "            (0): Conv2d(144, 24, kernel_size=(1, 1), stride=(1, 1), bias=False)\n",
      "            (1): BatchNorm2d(24, eps=1e-05, momentum=0.1, affine=True, track_running_stats=True)\n",
      "          )\n",
      "        )\n",
      "        (stochastic_depth): StochasticDepth(p=0.025, mode=row)\n",
      "      )\n",
      "    )\n",
      "    (3): Sequential(\n",
      "      (0): MBConv(\n",
      "        (block): Sequential(\n",
      "          (0): Conv2dNormActivation(\n",
      "            (0): Conv2d(24, 144, kernel_size=(1, 1), stride=(1, 1), bias=False)\n",
      "            (1): BatchNorm2d(144, eps=1e-05, momentum=0.1, affine=True, track_running_stats=True)\n",
      "            (2): SiLU(inplace=True)\n",
      "          )\n",
      "          (1): Conv2dNormActivation(\n",
      "            (0): Conv2d(144, 144, kernel_size=(5, 5), stride=(2, 2), padding=(2, 2), groups=144, bias=False)\n",
      "            (1): BatchNorm2d(144, eps=1e-05, momentum=0.1, affine=True, track_running_stats=True)\n",
      "            (2): SiLU(inplace=True)\n",
      "          )\n",
      "          (2): SqueezeExcitation(\n",
      "            (avgpool): AdaptiveAvgPool2d(output_size=1)\n",
      "            (fc1): Conv2d(144, 6, kernel_size=(1, 1), stride=(1, 1))\n",
      "            (fc2): Conv2d(6, 144, kernel_size=(1, 1), stride=(1, 1))\n",
      "            (activation): SiLU(inplace=True)\n",
      "            (scale_activation): Sigmoid()\n",
      "          )\n",
      "          (3): Conv2dNormActivation(\n",
      "            (0): Conv2d(144, 40, kernel_size=(1, 1), stride=(1, 1), bias=False)\n",
      "            (1): BatchNorm2d(40, eps=1e-05, momentum=0.1, affine=True, track_running_stats=True)\n",
      "          )\n",
      "        )\n",
      "        (stochastic_depth): StochasticDepth(p=0.037500000000000006, mode=row)\n",
      "      )\n",
      "      (1): MBConv(\n",
      "        (block): Sequential(\n",
      "          (0): Conv2dNormActivation(\n",
      "            (0): Conv2d(40, 240, kernel_size=(1, 1), stride=(1, 1), bias=False)\n",
      "            (1): BatchNorm2d(240, eps=1e-05, momentum=0.1, affine=True, track_running_stats=True)\n",
      "            (2): SiLU(inplace=True)\n",
      "          )\n",
      "          (1): Conv2dNormActivation(\n",
      "            (0): Conv2d(240, 240, kernel_size=(5, 5), stride=(1, 1), padding=(2, 2), groups=240, bias=False)\n",
      "            (1): BatchNorm2d(240, eps=1e-05, momentum=0.1, affine=True, track_running_stats=True)\n",
      "            (2): SiLU(inplace=True)\n",
      "          )\n",
      "          (2): SqueezeExcitation(\n",
      "            (avgpool): AdaptiveAvgPool2d(output_size=1)\n",
      "            (fc1): Conv2d(240, 10, kernel_size=(1, 1), stride=(1, 1))\n",
      "            (fc2): Conv2d(10, 240, kernel_size=(1, 1), stride=(1, 1))\n",
      "            (activation): SiLU(inplace=True)\n",
      "            (scale_activation): Sigmoid()\n",
      "          )\n",
      "          (3): Conv2dNormActivation(\n",
      "            (0): Conv2d(240, 40, kernel_size=(1, 1), stride=(1, 1), bias=False)\n",
      "            (1): BatchNorm2d(40, eps=1e-05, momentum=0.1, affine=True, track_running_stats=True)\n",
      "          )\n",
      "        )\n",
      "        (stochastic_depth): StochasticDepth(p=0.05, mode=row)\n",
      "      )\n",
      "    )\n",
      "    (4): Sequential(\n",
      "      (0): MBConv(\n",
      "        (block): Sequential(\n",
      "          (0): Conv2dNormActivation(\n",
      "            (0): Conv2d(40, 240, kernel_size=(1, 1), stride=(1, 1), bias=False)\n",
      "            (1): BatchNorm2d(240, eps=1e-05, momentum=0.1, affine=True, track_running_stats=True)\n",
      "            (2): SiLU(inplace=True)\n",
      "          )\n",
      "          (1): Conv2dNormActivation(\n",
      "            (0): Conv2d(240, 240, kernel_size=(3, 3), stride=(2, 2), padding=(1, 1), groups=240, bias=False)\n",
      "            (1): BatchNorm2d(240, eps=1e-05, momentum=0.1, affine=True, track_running_stats=True)\n",
      "            (2): SiLU(inplace=True)\n",
      "          )\n",
      "          (2): SqueezeExcitation(\n",
      "            (avgpool): AdaptiveAvgPool2d(output_size=1)\n",
      "            (fc1): Conv2d(240, 10, kernel_size=(1, 1), stride=(1, 1))\n",
      "            (fc2): Conv2d(10, 240, kernel_size=(1, 1), stride=(1, 1))\n",
      "            (activation): SiLU(inplace=True)\n",
      "            (scale_activation): Sigmoid()\n",
      "          )\n",
      "          (3): Conv2dNormActivation(\n",
      "            (0): Conv2d(240, 80, kernel_size=(1, 1), stride=(1, 1), bias=False)\n",
      "            (1): BatchNorm2d(80, eps=1e-05, momentum=0.1, affine=True, track_running_stats=True)\n",
      "          )\n",
      "        )\n",
      "        (stochastic_depth): StochasticDepth(p=0.0625, mode=row)\n",
      "      )\n",
      "      (1): MBConv(\n",
      "        (block): Sequential(\n",
      "          (0): Conv2dNormActivation(\n",
      "            (0): Conv2d(80, 480, kernel_size=(1, 1), stride=(1, 1), bias=False)\n",
      "            (1): BatchNorm2d(480, eps=1e-05, momentum=0.1, affine=True, track_running_stats=True)\n",
      "            (2): SiLU(inplace=True)\n",
      "          )\n",
      "          (1): Conv2dNormActivation(\n",
      "            (0): Conv2d(480, 480, kernel_size=(3, 3), stride=(1, 1), padding=(1, 1), groups=480, bias=False)\n",
      "            (1): BatchNorm2d(480, eps=1e-05, momentum=0.1, affine=True, track_running_stats=True)\n",
      "            (2): SiLU(inplace=True)\n",
      "          )\n",
      "          (2): SqueezeExcitation(\n",
      "            (avgpool): AdaptiveAvgPool2d(output_size=1)\n",
      "            (fc1): Conv2d(480, 20, kernel_size=(1, 1), stride=(1, 1))\n",
      "            (fc2): Conv2d(20, 480, kernel_size=(1, 1), stride=(1, 1))\n",
      "            (activation): SiLU(inplace=True)\n",
      "            (scale_activation): Sigmoid()\n",
      "          )\n",
      "          (3): Conv2dNormActivation(\n",
      "            (0): Conv2d(480, 80, kernel_size=(1, 1), stride=(1, 1), bias=False)\n",
      "            (1): BatchNorm2d(80, eps=1e-05, momentum=0.1, affine=True, track_running_stats=True)\n",
      "          )\n",
      "        )\n",
      "        (stochastic_depth): StochasticDepth(p=0.07500000000000001, mode=row)\n",
      "      )\n",
      "      (2): MBConv(\n",
      "        (block): Sequential(\n",
      "          (0): Conv2dNormActivation(\n",
      "            (0): Conv2d(80, 480, kernel_size=(1, 1), stride=(1, 1), bias=False)\n",
      "            (1): BatchNorm2d(480, eps=1e-05, momentum=0.1, affine=True, track_running_stats=True)\n",
      "            (2): SiLU(inplace=True)\n",
      "          )\n",
      "          (1): Conv2dNormActivation(\n",
      "            (0): Conv2d(480, 480, kernel_size=(3, 3), stride=(1, 1), padding=(1, 1), groups=480, bias=False)\n",
      "            (1): BatchNorm2d(480, eps=1e-05, momentum=0.1, affine=True, track_running_stats=True)\n",
      "            (2): SiLU(inplace=True)\n",
      "          )\n",
      "          (2): SqueezeExcitation(\n",
      "            (avgpool): AdaptiveAvgPool2d(output_size=1)\n",
      "            (fc1): Conv2d(480, 20, kernel_size=(1, 1), stride=(1, 1))\n",
      "            (fc2): Conv2d(20, 480, kernel_size=(1, 1), stride=(1, 1))\n",
      "            (activation): SiLU(inplace=True)\n",
      "            (scale_activation): Sigmoid()\n",
      "          )\n",
      "          (3): Conv2dNormActivation(\n",
      "            (0): Conv2d(480, 80, kernel_size=(1, 1), stride=(1, 1), bias=False)\n",
      "            (1): BatchNorm2d(80, eps=1e-05, momentum=0.1, affine=True, track_running_stats=True)\n",
      "          )\n",
      "        )\n",
      "        (stochastic_depth): StochasticDepth(p=0.08750000000000001, mode=row)\n",
      "      )\n",
      "    )\n",
      "    (5): Sequential(\n",
      "      (0): MBConv(\n",
      "        (block): Sequential(\n",
      "          (0): Conv2dNormActivation(\n",
      "            (0): Conv2d(80, 480, kernel_size=(1, 1), stride=(1, 1), bias=False)\n",
      "            (1): BatchNorm2d(480, eps=1e-05, momentum=0.1, affine=True, track_running_stats=True)\n",
      "            (2): SiLU(inplace=True)\n",
      "          )\n",
      "          (1): Conv2dNormActivation(\n",
      "            (0): Conv2d(480, 480, kernel_size=(5, 5), stride=(1, 1), padding=(2, 2), groups=480, bias=False)\n",
      "            (1): BatchNorm2d(480, eps=1e-05, momentum=0.1, affine=True, track_running_stats=True)\n",
      "            (2): SiLU(inplace=True)\n",
      "          )\n",
      "          (2): SqueezeExcitation(\n",
      "            (avgpool): AdaptiveAvgPool2d(output_size=1)\n",
      "            (fc1): Conv2d(480, 20, kernel_size=(1, 1), stride=(1, 1))\n",
      "            (fc2): Conv2d(20, 480, kernel_size=(1, 1), stride=(1, 1))\n",
      "            (activation): SiLU(inplace=True)\n",
      "            (scale_activation): Sigmoid()\n",
      "          )\n",
      "          (3): Conv2dNormActivation(\n",
      "            (0): Conv2d(480, 112, kernel_size=(1, 1), stride=(1, 1), bias=False)\n",
      "            (1): BatchNorm2d(112, eps=1e-05, momentum=0.1, affine=True, track_running_stats=True)\n",
      "          )\n",
      "        )\n",
      "        (stochastic_depth): StochasticDepth(p=0.1, mode=row)\n",
      "      )\n",
      "      (1): MBConv(\n",
      "        (block): Sequential(\n",
      "          (0): Conv2dNormActivation(\n",
      "            (0): Conv2d(112, 672, kernel_size=(1, 1), stride=(1, 1), bias=False)\n",
      "            (1): BatchNorm2d(672, eps=1e-05, momentum=0.1, affine=True, track_running_stats=True)\n",
      "            (2): SiLU(inplace=True)\n",
      "          )\n",
      "          (1): Conv2dNormActivation(\n",
      "            (0): Conv2d(672, 672, kernel_size=(5, 5), stride=(1, 1), padding=(2, 2), groups=672, bias=False)\n",
      "            (1): BatchNorm2d(672, eps=1e-05, momentum=0.1, affine=True, track_running_stats=True)\n",
      "            (2): SiLU(inplace=True)\n",
      "          )\n",
      "          (2): SqueezeExcitation(\n",
      "            (avgpool): AdaptiveAvgPool2d(output_size=1)\n",
      "            (fc1): Conv2d(672, 28, kernel_size=(1, 1), stride=(1, 1))\n",
      "            (fc2): Conv2d(28, 672, kernel_size=(1, 1), stride=(1, 1))\n",
      "            (activation): SiLU(inplace=True)\n",
      "            (scale_activation): Sigmoid()\n",
      "          )\n",
      "          (3): Conv2dNormActivation(\n",
      "            (0): Conv2d(672, 112, kernel_size=(1, 1), stride=(1, 1), bias=False)\n",
      "            (1): BatchNorm2d(112, eps=1e-05, momentum=0.1, affine=True, track_running_stats=True)\n",
      "          )\n",
      "        )\n",
      "        (stochastic_depth): StochasticDepth(p=0.1125, mode=row)\n",
      "      )\n",
      "      (2): MBConv(\n",
      "        (block): Sequential(\n",
      "          (0): Conv2dNormActivation(\n",
      "            (0): Conv2d(112, 672, kernel_size=(1, 1), stride=(1, 1), bias=False)\n",
      "            (1): BatchNorm2d(672, eps=1e-05, momentum=0.1, affine=True, track_running_stats=True)\n",
      "            (2): SiLU(inplace=True)\n",
      "          )\n",
      "          (1): Conv2dNormActivation(\n",
      "            (0): Conv2d(672, 672, kernel_size=(5, 5), stride=(1, 1), padding=(2, 2), groups=672, bias=False)\n",
      "            (1): BatchNorm2d(672, eps=1e-05, momentum=0.1, affine=True, track_running_stats=True)\n",
      "            (2): SiLU(inplace=True)\n",
      "          )\n",
      "          (2): SqueezeExcitation(\n",
      "            (avgpool): AdaptiveAvgPool2d(output_size=1)\n",
      "            (fc1): Conv2d(672, 28, kernel_size=(1, 1), stride=(1, 1))\n",
      "            (fc2): Conv2d(28, 672, kernel_size=(1, 1), stride=(1, 1))\n",
      "            (activation): SiLU(inplace=True)\n",
      "            (scale_activation): Sigmoid()\n",
      "          )\n",
      "          (3): Conv2dNormActivation(\n",
      "            (0): Conv2d(672, 112, kernel_size=(1, 1), stride=(1, 1), bias=False)\n",
      "            (1): BatchNorm2d(112, eps=1e-05, momentum=0.1, affine=True, track_running_stats=True)\n",
      "          )\n",
      "        )\n",
      "        (stochastic_depth): StochasticDepth(p=0.125, mode=row)\n",
      "      )\n",
      "    )\n",
      "    (6): Sequential(\n",
      "      (0): MBConv(\n",
      "        (block): Sequential(\n",
      "          (0): Conv2dNormActivation(\n",
      "            (0): Conv2d(112, 672, kernel_size=(1, 1), stride=(1, 1), bias=False)\n",
      "            (1): BatchNorm2d(672, eps=1e-05, momentum=0.1, affine=True, track_running_stats=True)\n",
      "            (2): SiLU(inplace=True)\n",
      "          )\n",
      "          (1): Conv2dNormActivation(\n",
      "            (0): Conv2d(672, 672, kernel_size=(5, 5), stride=(2, 2), padding=(2, 2), groups=672, bias=False)\n",
      "            (1): BatchNorm2d(672, eps=1e-05, momentum=0.1, affine=True, track_running_stats=True)\n",
      "            (2): SiLU(inplace=True)\n",
      "          )\n",
      "          (2): SqueezeExcitation(\n",
      "            (avgpool): AdaptiveAvgPool2d(output_size=1)\n",
      "            (fc1): Conv2d(672, 28, kernel_size=(1, 1), stride=(1, 1))\n",
      "            (fc2): Conv2d(28, 672, kernel_size=(1, 1), stride=(1, 1))\n",
      "            (activation): SiLU(inplace=True)\n",
      "            (scale_activation): Sigmoid()\n",
      "          )\n",
      "          (3): Conv2dNormActivation(\n",
      "            (0): Conv2d(672, 192, kernel_size=(1, 1), stride=(1, 1), bias=False)\n",
      "            (1): BatchNorm2d(192, eps=1e-05, momentum=0.1, affine=True, track_running_stats=True)\n",
      "          )\n",
      "        )\n",
      "        (stochastic_depth): StochasticDepth(p=0.1375, mode=row)\n",
      "      )\n",
      "      (1): MBConv(\n",
      "        (block): Sequential(\n",
      "          (0): Conv2dNormActivation(\n",
      "            (0): Conv2d(192, 1152, kernel_size=(1, 1), stride=(1, 1), bias=False)\n",
      "            (1): BatchNorm2d(1152, eps=1e-05, momentum=0.1, affine=True, track_running_stats=True)\n",
      "            (2): SiLU(inplace=True)\n",
      "          )\n",
      "          (1): Conv2dNormActivation(\n",
      "            (0): Conv2d(1152, 1152, kernel_size=(5, 5), stride=(1, 1), padding=(2, 2), groups=1152, bias=False)\n",
      "            (1): BatchNorm2d(1152, eps=1e-05, momentum=0.1, affine=True, track_running_stats=True)\n",
      "            (2): SiLU(inplace=True)\n",
      "          )\n",
      "          (2): SqueezeExcitation(\n",
      "            (avgpool): AdaptiveAvgPool2d(output_size=1)\n",
      "            (fc1): Conv2d(1152, 48, kernel_size=(1, 1), stride=(1, 1))\n",
      "            (fc2): Conv2d(48, 1152, kernel_size=(1, 1), stride=(1, 1))\n",
      "            (activation): SiLU(inplace=True)\n",
      "            (scale_activation): Sigmoid()\n",
      "          )\n",
      "          (3): Conv2dNormActivation(\n",
      "            (0): Conv2d(1152, 192, kernel_size=(1, 1), stride=(1, 1), bias=False)\n",
      "            (1): BatchNorm2d(192, eps=1e-05, momentum=0.1, affine=True, track_running_stats=True)\n",
      "          )\n",
      "        )\n",
      "        (stochastic_depth): StochasticDepth(p=0.15000000000000002, mode=row)\n",
      "      )\n",
      "      (2): MBConv(\n",
      "        (block): Sequential(\n",
      "          (0): Conv2dNormActivation(\n",
      "            (0): Conv2d(192, 1152, kernel_size=(1, 1), stride=(1, 1), bias=False)\n",
      "            (1): BatchNorm2d(1152, eps=1e-05, momentum=0.1, affine=True, track_running_stats=True)\n",
      "            (2): SiLU(inplace=True)\n",
      "          )\n",
      "          (1): Conv2dNormActivation(\n",
      "            (0): Conv2d(1152, 1152, kernel_size=(5, 5), stride=(1, 1), padding=(2, 2), groups=1152, bias=False)\n",
      "            (1): BatchNorm2d(1152, eps=1e-05, momentum=0.1, affine=True, track_running_stats=True)\n",
      "            (2): SiLU(inplace=True)\n",
      "          )\n",
      "          (2): SqueezeExcitation(\n",
      "            (avgpool): AdaptiveAvgPool2d(output_size=1)\n",
      "            (fc1): Conv2d(1152, 48, kernel_size=(1, 1), stride=(1, 1))\n",
      "            (fc2): Conv2d(48, 1152, kernel_size=(1, 1), stride=(1, 1))\n",
      "            (activation): SiLU(inplace=True)\n",
      "            (scale_activation): Sigmoid()\n",
      "          )\n",
      "          (3): Conv2dNormActivation(\n",
      "            (0): Conv2d(1152, 192, kernel_size=(1, 1), stride=(1, 1), bias=False)\n",
      "            (1): BatchNorm2d(192, eps=1e-05, momentum=0.1, affine=True, track_running_stats=True)\n",
      "          )\n",
      "        )\n",
      "        (stochastic_depth): StochasticDepth(p=0.1625, mode=row)\n",
      "      )\n",
      "      (3): MBConv(\n",
      "        (block): Sequential(\n",
      "          (0): Conv2dNormActivation(\n",
      "            (0): Conv2d(192, 1152, kernel_size=(1, 1), stride=(1, 1), bias=False)\n",
      "            (1): BatchNorm2d(1152, eps=1e-05, momentum=0.1, affine=True, track_running_stats=True)\n",
      "            (2): SiLU(inplace=True)\n",
      "          )\n",
      "          (1): Conv2dNormActivation(\n",
      "            (0): Conv2d(1152, 1152, kernel_size=(5, 5), stride=(1, 1), padding=(2, 2), groups=1152, bias=False)\n",
      "            (1): BatchNorm2d(1152, eps=1e-05, momentum=0.1, affine=True, track_running_stats=True)\n",
      "            (2): SiLU(inplace=True)\n",
      "          )\n",
      "          (2): SqueezeExcitation(\n",
      "            (avgpool): AdaptiveAvgPool2d(output_size=1)\n",
      "            (fc1): Conv2d(1152, 48, kernel_size=(1, 1), stride=(1, 1))\n",
      "            (fc2): Conv2d(48, 1152, kernel_size=(1, 1), stride=(1, 1))\n",
      "            (activation): SiLU(inplace=True)\n",
      "            (scale_activation): Sigmoid()\n",
      "          )\n",
      "          (3): Conv2dNormActivation(\n",
      "            (0): Conv2d(1152, 192, kernel_size=(1, 1), stride=(1, 1), bias=False)\n",
      "            (1): BatchNorm2d(192, eps=1e-05, momentum=0.1, affine=True, track_running_stats=True)\n",
      "          )\n",
      "        )\n",
      "        (stochastic_depth): StochasticDepth(p=0.17500000000000002, mode=row)\n",
      "      )\n",
      "    )\n",
      "    (7): Sequential(\n",
      "      (0): MBConv(\n",
      "        (block): Sequential(\n",
      "          (0): Conv2dNormActivation(\n",
      "            (0): Conv2d(192, 1152, kernel_size=(1, 1), stride=(1, 1), bias=False)\n",
      "            (1): BatchNorm2d(1152, eps=1e-05, momentum=0.1, affine=True, track_running_stats=True)\n",
      "            (2): SiLU(inplace=True)\n",
      "          )\n",
      "          (1): Conv2dNormActivation(\n",
      "            (0): Conv2d(1152, 1152, kernel_size=(3, 3), stride=(1, 1), padding=(1, 1), groups=1152, bias=False)\n",
      "            (1): BatchNorm2d(1152, eps=1e-05, momentum=0.1, affine=True, track_running_stats=True)\n",
      "            (2): SiLU(inplace=True)\n",
      "          )\n",
      "          (2): SqueezeExcitation(\n",
      "            (avgpool): AdaptiveAvgPool2d(output_size=1)\n",
      "            (fc1): Conv2d(1152, 48, kernel_size=(1, 1), stride=(1, 1))\n",
      "            (fc2): Conv2d(48, 1152, kernel_size=(1, 1), stride=(1, 1))\n",
      "            (activation): SiLU(inplace=True)\n",
      "            (scale_activation): Sigmoid()\n",
      "          )\n",
      "          (3): Conv2dNormActivation(\n",
      "            (0): Conv2d(1152, 320, kernel_size=(1, 1), stride=(1, 1), bias=False)\n",
      "            (1): BatchNorm2d(320, eps=1e-05, momentum=0.1, affine=True, track_running_stats=True)\n",
      "          )\n",
      "        )\n",
      "        (stochastic_depth): StochasticDepth(p=0.1875, mode=row)\n",
      "      )\n",
      "    )\n",
      "    (8): Conv2dNormActivation(\n",
      "      (0): Conv2d(320, 1280, kernel_size=(1, 1), stride=(1, 1), bias=False)\n",
      "      (1): BatchNorm2d(1280, eps=1e-05, momentum=0.1, affine=True, track_running_stats=True)\n",
      "      (2): SiLU(inplace=True)\n",
      "    )\n",
      "  )\n",
      "  (avgpool): AdaptiveAvgPool2d(output_size=1)\n",
      "  (classifier): Sequential(\n",
      "    (0): Dropout(p=0.4, inplace=False)\n",
      "    (1): Linear(in_features=1280, out_features=3, bias=True)\n",
      "  )\n",
      ")\n"
     ]
    }
   ],
   "source": [
    "import torch.nn as nn\n",
    "import torch.nn.functional as F\n",
    "from torchvision import models\n",
    "from torchvision.models import efficientnet_b0\n",
    "\n",
    "# ResNet18 換成 EfficientNet_B0\n",
    "model = efficientnet_b0(pretrained=True)\n",
    "\n",
    "# ConvNet as fixed feature extractor (freeze parameters)\n",
    "for param in model.features.parameters():\n",
    "    param.requires_grad = False\n",
    "\n",
    "#num_ftrs = model.fc.in_features\n",
    "num_class = 3\n",
    "\n",
    "#\n",
    "model.classifier = nn.Sequential(\n",
    "    nn.Dropout(0.4),\n",
    "    nn.Linear(model.classifier[1].in_features, num_class)\n",
    ")\n",
    "\n",
    "print(model)"
   ]
  },
  {
   "cell_type": "markdown",
   "metadata": {
    "id": "nvLTU-IfZLqn"
   },
   "source": [
    "## C. Training the Neural Network"
   ]
  },
  {
   "cell_type": "code",
   "execution_count": 33,
   "metadata": {
    "colab": {
     "base_uri": "https://localhost:8080/",
     "height": 917,
     "referenced_widgets": [
      "a0842987231047378203850abade6183",
      "a336439f35cb412a85212bdae966340e",
      "8f965c6347e941f6adc2e879c1e94e6d",
      "84a2b1a2e07e4de09232bc181347626c",
      "1132b61c9d804b749e75e181eb83b060",
      "d02825701fb2466fb687673d1d0b7af0",
      "36f29bc25b3c4629adfe2bc7257313fd",
      "3b0009ce4d234b788a8d937151e9ea3c",
      "63d5d7c0b83343b08bc8b84ca7aac99e",
      "a6ef520290b6403d9229f759dec47109",
      "53b449542e5d4161b2d8568a3cb9befa"
     ]
    },
    "executionInfo": {
     "elapsed": 23015,
     "status": "ok",
     "timestamp": 1744185853760,
     "user": {
      "displayName": "右魚",
      "userId": "01020411439468698448"
     },
     "user_tz": -480
    },
    "id": "45ol4lpVxc6t",
    "outputId": "c0909e2e-c523-45d2-babb-f35dd2209f62"
   },
   "outputs": [
    {
     "data": {
      "application/vnd.jupyter.widget-view+json": {
       "model_id": "a0842987231047378203850abade6183",
       "version_major": 2,
       "version_minor": 0
      },
      "text/plain": [
       "  0%|          | 0/50 [00:00<?, ?it/s]"
      ]
     },
     "metadata": {},
     "output_type": "display_data"
    },
    {
     "name": "stdout",
     "output_type": "stream",
     "text": [
      "Epoch 1/50, Train loss: 1.1038, Train acc: 35.4167%, Val loss: 1.0994, Val acc: 33.3333%, Best Val loss: 1.0994 Best Val acc: 33.33%\n",
      "Epoch 2/50, Train loss: 1.2078, Train acc: 35.4167%, Val loss: 1.0983, Val acc: 33.3333%, Best Val loss: 1.0983 Best Val acc: 33.33%\n",
      "Epoch 3/50, Train loss: 1.2355, Train acc: 31.2500%, Val loss: 1.1007, Val acc: 33.3333%, Best Val loss: 1.0983 Best Val acc: 33.33%\n",
      "Epoch 4/50, Train loss: 1.2447, Train acc: 29.1667%, Val loss: 1.1021, Val acc: 33.3333%, Best Val loss: 1.0983 Best Val acc: 33.33%\n",
      "Epoch 5/50, Train loss: 1.1291, Train acc: 31.2500%, Val loss: 1.1039, Val acc: 33.3333%, Best Val loss: 1.0983 Best Val acc: 33.33%\n",
      "Epoch 6/50, Train loss: 1.1595, Train acc: 35.4167%, Val loss: 1.1117, Val acc: 33.3333%, Best Val loss: 1.0983 Best Val acc: 33.33%\n",
      "Epoch 7/50, Train loss: 1.0697, Train acc: 45.8333%, Val loss: 1.1108, Val acc: 33.3333%, Best Val loss: 1.0983 Best Val acc: 33.33%\n",
      "Epoch 8/50, Train loss: 1.0251, Train acc: 50.0000%, Val loss: 1.1312, Val acc: 33.3333%, Best Val loss: 1.0983 Best Val acc: 33.33%\n",
      "Epoch 9/50, Train loss: 1.0254, Train acc: 52.0833%, Val loss: 1.1533, Val acc: 25.0000%, Best Val loss: 1.0983 Best Val acc: 33.33%\n",
      "Epoch 10/50, Train loss: 1.0769, Train acc: 37.5000%, Val loss: 1.1778, Val acc: 33.3333%, Best Val loss: 1.0983 Best Val acc: 33.33%\n",
      "Epoch 11/50, Train loss: 0.9252, Train acc: 56.2500%, Val loss: 1.2747, Val acc: 33.3333%, Best Val loss: 1.0983 Best Val acc: 33.33%\n",
      "Epoch 12/50, Train loss: 1.0237, Train acc: 50.0000%, Val loss: 1.1990, Val acc: 33.3333%, Best Val loss: 1.0983 Best Val acc: 33.33%\n",
      "Epoch 13/50, Train loss: 0.9733, Train acc: 54.1667%, Val loss: 1.1684, Val acc: 33.3333%, Best Val loss: 1.0983 Best Val acc: 33.33%\n",
      "Epoch 14/50, Train loss: 0.9411, Train acc: 68.7500%, Val loss: 1.1085, Val acc: 33.3333%, Best Val loss: 1.0983 Best Val acc: 33.33%\n",
      "Epoch 15/50, Train loss: 0.8416, Train acc: 60.4167%, Val loss: 1.0909, Val acc: 33.3333%, Best Val loss: 1.0909 Best Val acc: 33.33%\n",
      "Epoch 16/50, Train loss: 0.9789, Train acc: 47.9167%, Val loss: 1.1234, Val acc: 33.3333%, Best Val loss: 1.0909 Best Val acc: 33.33%\n",
      "Epoch 17/50, Train loss: 0.7959, Train acc: 64.5833%, Val loss: 1.2160, Val acc: 16.6667%, Best Val loss: 1.0909 Best Val acc: 33.33%\n",
      "Epoch 18/50, Train loss: 0.9712, Train acc: 62.5000%, Val loss: 1.1560, Val acc: 25.0000%, Best Val loss: 1.0909 Best Val acc: 33.33%\n",
      "Epoch 19/50, Train loss: 0.9277, Train acc: 62.5000%, Val loss: 1.3385, Val acc: 8.3333%, Best Val loss: 1.0909 Best Val acc: 33.33%\n",
      "Epoch 20/50, Train loss: 1.0283, Train acc: 52.0833%, Val loss: 1.1685, Val acc: 33.3333%, Best Val loss: 1.0909 Best Val acc: 33.33%\n",
      "Epoch 21/50, Train loss: 0.7688, Train acc: 58.3333%, Val loss: 1.0909, Val acc: 50.0000%, Best Val loss: 1.0909 Best Val acc: 50.00%\n",
      "Epoch 22/50, Train loss: 0.9056, Train acc: 60.4167%, Val loss: 1.1175, Val acc: 50.0000%, Best Val loss: 1.0909 Best Val acc: 50.00%\n",
      "Epoch 23/50, Train loss: 0.9734, Train acc: 47.9167%, Val loss: 1.1590, Val acc: 33.3333%, Best Val loss: 1.0909 Best Val acc: 50.00%\n",
      "Epoch 24/50, Train loss: 0.7466, Train acc: 64.5833%, Val loss: 1.1631, Val acc: 41.6667%, Best Val loss: 1.0909 Best Val acc: 50.00%\n",
      "Epoch 25/50, Train loss: 0.8789, Train acc: 56.2500%, Val loss: 1.1867, Val acc: 41.6667%, Best Val loss: 1.0909 Best Val acc: 50.00%\n",
      "Epoch 26/50, Train loss: 0.6618, Train acc: 75.0000%, Val loss: 1.1942, Val acc: 16.6667%, Best Val loss: 1.0909 Best Val acc: 50.00%\n",
      "Epoch 27/50, Train loss: 0.9289, Train acc: 58.3333%, Val loss: 1.1732, Val acc: 33.3333%, Best Val loss: 1.0909 Best Val acc: 50.00%\n",
      "Epoch 28/50, Train loss: 0.9290, Train acc: 52.0833%, Val loss: 1.1522, Val acc: 41.6667%, Best Val loss: 1.0909 Best Val acc: 50.00%\n",
      "Epoch 29/50, Train loss: 0.8340, Train acc: 58.3333%, Val loss: 1.2183, Val acc: 33.3333%, Best Val loss: 1.0909 Best Val acc: 50.00%\n",
      "Epoch 30/50, Train loss: 0.8212, Train acc: 58.3333%, Val loss: 1.1159, Val acc: 33.3333%, Best Val loss: 1.0909 Best Val acc: 50.00%\n",
      "Epoch 31/50, Train loss: 0.7057, Train acc: 70.8333%, Val loss: 1.1604, Val acc: 16.6667%, Best Val loss: 1.0909 Best Val acc: 50.00%\n",
      "Epoch 32/50, Train loss: 0.8294, Train acc: 60.4167%, Val loss: 1.1346, Val acc: 25.0000%, Best Val loss: 1.0909 Best Val acc: 50.00%\n",
      "Epoch 33/50, Train loss: 0.8548, Train acc: 62.5000%, Val loss: 1.1628, Val acc: 25.0000%, Best Val loss: 1.0909 Best Val acc: 50.00%\n",
      "Epoch 34/50, Train loss: 0.8429, Train acc: 62.5000%, Val loss: 1.2281, Val acc: 41.6667%, Best Val loss: 1.0909 Best Val acc: 50.00%\n",
      "Epoch 35/50, Train loss: 0.8921, Train acc: 58.3333%, Val loss: 1.3280, Val acc: 25.0000%, Best Val loss: 1.0909 Best Val acc: 50.00%\n",
      "Epoch 36/50, Train loss: 0.8426, Train acc: 66.6667%, Val loss: 1.3280, Val acc: 8.3333%, Best Val loss: 1.0909 Best Val acc: 50.00%\n",
      "Epoch 37/50, Train loss: 0.7626, Train acc: 62.5000%, Val loss: 1.3198, Val acc: 16.6667%, Best Val loss: 1.0909 Best Val acc: 50.00%\n",
      "Epoch 38/50, Train loss: 0.9092, Train acc: 60.4167%, Val loss: 1.3479, Val acc: 16.6667%, Best Val loss: 1.0909 Best Val acc: 50.00%\n",
      "Epoch 39/50, Train loss: 0.8189, Train acc: 60.4167%, Val loss: 1.3745, Val acc: 25.0000%, Best Val loss: 1.0909 Best Val acc: 50.00%\n",
      "Epoch 40/50, Train loss: 0.9176, Train acc: 64.5833%, Val loss: 1.3200, Val acc: 33.3333%, Best Val loss: 1.0909 Best Val acc: 50.00%\n",
      "Epoch 41/50, Train loss: 0.8440, Train acc: 64.5833%, Val loss: 1.2571, Val acc: 50.0000%, Best Val loss: 1.0909 Best Val acc: 50.00%\n",
      "Epoch 42/50, Train loss: 0.8151, Train acc: 70.8333%, Val loss: 1.0832, Val acc: 41.6667%, Best Val loss: 1.0832 Best Val acc: 50.00%\n",
      "Epoch 43/50, Train loss: 0.6246, Train acc: 75.0000%, Val loss: 1.0767, Val acc: 41.6667%, Best Val loss: 1.0767 Best Val acc: 50.00%\n",
      "Epoch 44/50, Train loss: 0.8021, Train acc: 79.1667%, Val loss: 1.1052, Val acc: 58.3333%, Best Val loss: 1.0767 Best Val acc: 58.33%\n",
      "Epoch 45/50, Train loss: 0.7702, Train acc: 66.6667%, Val loss: 1.0695, Val acc: 50.0000%, Best Val loss: 1.0695 Best Val acc: 58.33%\n",
      "Epoch 46/50, Train loss: 0.7259, Train acc: 64.5833%, Val loss: 0.9403, Val acc: 41.6667%, Best Val loss: 0.9403 Best Val acc: 58.33%\n",
      "Epoch 47/50, Train loss: 0.8047, Train acc: 64.5833%, Val loss: 0.8763, Val acc: 50.0000%, Best Val loss: 0.8763 Best Val acc: 58.33%\n",
      "Epoch 48/50, Train loss: 0.8735, Train acc: 58.3333%, Val loss: 0.7748, Val acc: 66.6667%, Best Val loss: 0.7748 Best Val acc: 66.67%\n",
      "Epoch 49/50, Train loss: 0.6817, Train acc: 72.9167%, Val loss: 0.7662, Val acc: 58.3333%, Best Val loss: 0.7662 Best Val acc: 66.67%\n",
      "Epoch 50/50, Train loss: 0.7493, Train acc: 66.6667%, Val loss: 0.7660, Val acc: 58.3333%, Best Val loss: 0.7660 Best Val acc: 66.67%\n"
     ]
    }
   ],
   "source": [
    "import torch.optim as optim\n",
    "from torch.optim.lr_scheduler import CosineAnnealingLR, StepLR\n",
    "from tqdm.auto import tqdm\n",
    "\n",
    "train_losses = []\n",
    "val_losses = []\n",
    "train_accuracies = []\n",
    "val_accuracies = []\n",
    "\n",
    "epochs = 50 # hyper parameter\n",
    "device = torch.device('cuda' if torch.cuda.is_available() else 'cpu')\n",
    "model = model.to(device)\n",
    "\n",
    "best_val_loss = float('inf')\n",
    "best_val_acc = -1\n",
    "\n",
    "criterion = nn.CrossEntropyLoss()\n",
    "optimizer = optim.Adam(model.parameters(), lr=1e-3) # hyper parameter\n",
    "lr_scheduler = CosineAnnealingLR(optimizer, T_max=len(train_loader)*epochs, eta_min=0)\n",
    "\n",
    "for epoch in tqdm(range(epochs)):\n",
    "    # Training\n",
    "    model.train()\n",
    "    total_loss = 0.0\n",
    "    train_correct = 0\n",
    "    total_train_samples = 0\n",
    "\n",
    "    for images, labels in train_loader:\n",
    "        images = images.to(device)\n",
    "        images = (images) / 255.\n",
    "        labels = labels.to(device)\n",
    "        optimizer.zero_grad()\n",
    "        outputs = model(images)\n",
    "\n",
    "        labels = labels.long()\n",
    "\n",
    "        loss = criterion(outputs, labels)\n",
    "        loss.backward()\n",
    "        optimizer.step()\n",
    "        total_loss += loss.item()\n",
    "\n",
    "        train_predicted = outputs.argmax(-1)\n",
    "        train_correct += (train_predicted == labels).sum().item()\n",
    "        total_train_samples += labels.size(0)\n",
    "\n",
    "    avg_train_loss = total_loss / len(train_loader)\n",
    "    train_accuracy = 100. * train_correct / total_train_samples\n",
    "\n",
    "    # Validation\n",
    "    model.eval()\n",
    "    total_val_loss = 0.0\n",
    "    correct = 0\n",
    "    total = 0\n",
    "    with torch.no_grad():\n",
    "        for images, labels in val_loader:\n",
    "            images = images.to(device)\n",
    "            images = (images) / 255.\n",
    "            labels = labels.to(device)\n",
    "            outputs = model(images)\n",
    "\n",
    "            labels = labels.long()\n",
    "\n",
    "            loss = criterion(outputs, labels)\n",
    "            total_val_loss += loss.item()\n",
    "\n",
    "            predicted = outputs.argmax(-1)\n",
    "            correct += (predicted == labels).sum().item()\n",
    "            total += labels.size(0)\n",
    "\n",
    "    avg_val_loss = total_val_loss / len(val_loader)\n",
    "    val_accuracy = 100. * correct / total\n",
    "\n",
    "    # Learning rate update\n",
    "    lr_scheduler.step()\n",
    "\n",
    "    # Checkpoint\n",
    "    if avg_val_loss < best_val_loss:\n",
    "        best_val_loss = avg_val_loss\n",
    "\n",
    "    if val_accuracy > best_val_acc:\n",
    "        best_val_acc = val_accuracy\n",
    "        torch.save(model.state_dict(), 'model_classification.pth')\n",
    "\n",
    "    print(f'Epoch {epoch+1}/{epochs}, Train loss: {avg_train_loss:.4f}, Train acc: {train_accuracy:.4f}%, Val loss: {avg_val_loss:.4f}, Val acc: {val_accuracy:.4f}%, Best Val loss: {best_val_loss:.4f} Best Val acc: {best_val_acc:.2f}%')\n",
    "\n",
    "    # Store performance\n",
    "    train_losses.append(avg_train_loss)\n",
    "    train_accuracies.append(train_accuracy)\n",
    "    val_losses.append(avg_val_loss)\n",
    "    val_accuracies.append(val_accuracy)"
   ]
  },
  {
   "cell_type": "markdown",
   "metadata": {
    "id": "pjmYxAJnxc6t"
   },
   "source": [
    "### Visualizing model performance"
   ]
  },
  {
   "cell_type": "code",
   "execution_count": 34,
   "metadata": {
    "colab": {
     "base_uri": "https://localhost:8080/",
     "height": 414
    },
    "executionInfo": {
     "elapsed": 300,
     "status": "ok",
     "timestamp": 1744185875321,
     "user": {
      "displayName": "右魚",
      "userId": "01020411439468698448"
     },
     "user_tz": -480
    },
    "id": "pHpS0Q7vxc6t",
    "outputId": "bcae0eea-9afa-487c-cdbc-b41567eadc1c"
   },
   "outputs": [
    {
     "data": {
      "image/png": "[encoded data removed]",
      "text/plain": [
       "<Figure size 1500x500 with 2 Axes>"
      ]
     },
     "metadata": {},
     "output_type": "display_data"
    }
   ],
   "source": [
    "import matplotlib.pyplot as plt\n",
    "\n",
    "fig, ax = plt.subplots(1, 2, figsize=(15, 5))\n",
    "\n",
    "# Plotting training and validation accuracy\n",
    "ax[0].plot(train_accuracies)\n",
    "ax[0].plot(val_accuracies)\n",
    "ax[0].set_title('Model Accuracy')\n",
    "ax[0].set_xlabel('Epochs')\n",
    "ax[0].set_ylabel('Accuracy')\n",
    "ax[0].legend(['Train', 'Val'])\n",
    "\n",
    "# Plotting training and validation loss\n",
    "ax[1].plot(train_losses)\n",
    "ax[1].plot(val_losses)\n",
    "ax[1].set_title('Model Loss')\n",
    "ax[1].set_xlabel('Epochs')\n",
    "ax[1].set_ylabel('Loss')\n",
    "ax[1].legend(['Train', 'Val'])\n",
    "\n",
    "plt.show()"
   ]
  },
  {
   "cell_type": "markdown",
   "metadata": {
    "id": "WVDWBwv6Cu8V"
   },
   "source": [
    "## D. Evaluating Your Trained Model"
   ]
  },
  {
   "cell_type": "markdown",
   "metadata": {
    "id": "uEztHBDjCu8V"
   },
   "source": [
    "### Load Trained Model and Evaluate"
   ]
  },
  {
   "cell_type": "code",
   "execution_count": 36,
   "metadata": {
    "colab": {
     "base_uri": "https://localhost:8080/"
    },
    "executionInfo": {
     "elapsed": 150,
     "status": "ok",
     "timestamp": 1744185953147,
     "user": {
      "displayName": "右魚",
      "userId": "01020411439468698448"
     },
     "user_tz": -480
    },
    "id": "2DA1qHXpCu8V",
    "outputId": "2778d611-4cc7-4ba8-a422-afb89350d82e"
   },
   "outputs": [
    {
     "name": "stdout",
     "output_type": "stream",
     "text": [
      "tensor([0, 0, 0, 0, 1, 1, 2, 1, 0, 0, 1, 2])\n",
      "tensor([0, 0, 0, 0, 1, 1, 1, 1, 2, 2, 2, 2])\n",
      "Test accuracy is 66.66666666666667%\n"
     ]
    }
   ],
   "source": [
    "# Load the trained weights\n",
    "model.load_state_dict(torch.load('model_classification.pth'))\n",
    "\n",
    "# Set the model to evaluation mode\n",
    "model.eval()\n",
    "\n",
    "test_correct = 0\n",
    "test_total = 0\n",
    "\n",
    "with torch.no_grad():\n",
    "    for images, labels in val_loader:\n",
    "\n",
    "        images = images.to(device)\n",
    "        images = (images) / 255.\n",
    "\n",
    "        labels = labels.to(device)\n",
    "        labels = labels.long()\n",
    "\n",
    "        outputs = model(images)\n",
    "\n",
    "        predicted = outputs.argmax(-1)\n",
    "        print(predicted)\n",
    "        print(labels)\n",
    "        test_correct += (predicted == labels).sum().item()\n",
    "        test_total += labels.size(0)\n",
    "\n",
    "print(f'Test accuracy is {100. * test_correct / test_total}%')"
   ]
  },
  {
   "cell_type": "code",
   "execution_count": null,
   "metadata": {
    "id": "jG6DuAgcEgxj"
   },
   "outputs": [],
   "source": []
  }
 ],
 "metadata": {
  "accelerator": "GPU",
  "colab": {
   "gpuType": "T4",
   "provenance": []
  },
  "kernelspec": {
   "display_name": "Python 3 (ipykernel)",
   "language": "python",
   "name": "python3"
  },
  "language_info": {
   "codemirror_mode": {
    "name": "ipython",
    "version": 3
   },
   "file_extension": ".py",
   "mimetype": "text/x-python",
   "name": "python",
   "nbconvert_exporter": "python",
   "pygments_lexer": "ipython3",
   "version": "3.8.13"
  }
 },
 "nbformat": 4,
 "nbformat_minor": 0
}
